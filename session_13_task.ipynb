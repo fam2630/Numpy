{
  "nbformat": 4,
  "nbformat_minor": 0,
  "metadata": {
    "colab": {
      "provenance": []
    },
    "kernelspec": {
      "name": "python3",
      "display_name": "Python 3"
    },
    "language_info": {
      "name": "python"
    }
  },
  "cells": [
    {
      "cell_type": "markdown",
      "source": [
        "**Note: In Data Science googling is a very important skill. If you find some difficulties to solve the problem, google it and try to find some clues to solve.**"
      ],
      "metadata": {
        "id": "6WdKdPGx-tnY"
      }
    },
    {
      "cell_type": "code",
      "source": [
        "import numpy as np"
      ],
      "metadata": {
        "id": "-J4F1ysN4mLk"
      },
      "execution_count": 1,
      "outputs": []
    },
    {
      "cell_type": "markdown",
      "source": [
        "###`Q-1` Create a null vector of size 10 but the fifth value which is 1.\n",
        "\n"
      ],
      "metadata": {
        "id": "a_K8IH-C6HDK"
      }
    },
    {
      "cell_type": "code",
      "source": [
        "#Code here\n",
        "a = np.zeros((10))\n",
        "a[4]=1\n",
        "a"
      ],
      "metadata": {
        "id": "sTF03KsZ6QUI",
        "outputId": "f5de667b-1e87-4ed2-b713-ce416fc02122",
        "colab": {
          "base_uri": "https://localhost:8080/"
        }
      },
      "execution_count": 11,
      "outputs": [
        {
          "output_type": "execute_result",
          "data": {
            "text/plain": [
              "array([0., 0., 0., 0., 1., 0., 0., 0., 0., 0.])"
            ]
          },
          "metadata": {},
          "execution_count": 11
        }
      ]
    },
    {
      "cell_type": "markdown",
      "source": [
        "###`Q-2` Ask user to input two numbers a, b. Write a program to generate a random array of shape (a, b) and print the array and avg of the array."
      ],
      "metadata": {
        "id": "TEiG25rS6S1i"
      }
    },
    {
      "cell_type": "code",
      "source": [
        "#Code here\n",
        "\n",
        "a = int(input(\"Enter 1st number \"))\n",
        "b = int(input(\"Enter 2nd number \"))\n",
        "\n",
        "arr = np.random.random((a,b))\n",
        "print(\"array \",arr)\n",
        "avg = np.average(arr)\n",
        "print(\"average of array \",avg)"
      ],
      "metadata": {
        "id": "ihwn4oOH6Vh7",
        "outputId": "655c4942-df02-44da-ccc2-0312b59c05ba",
        "colab": {
          "base_uri": "https://localhost:8080/"
        }
      },
      "execution_count": 12,
      "outputs": [
        {
          "output_type": "stream",
          "name": "stdout",
          "text": [
            "Enter 1st number 3\n",
            "Enter 2nd number 4\n",
            "array  [[0.13518842 0.83756408 0.68266416 0.9158393 ]\n",
            " [0.27492485 0.33520107 0.51655591 0.77209972]\n",
            " [0.32970547 0.23601444 0.6592555  0.97189238]]\n",
            "average of array  0.5555754429673163\n"
          ]
        }
      ]
    },
    {
      "cell_type": "markdown",
      "source": [
        "###`Q-3`Write a function to create a 2d array with 1 on the border and 0 inside. Take 2-D array shape as (a,b) as parameter to function.\n",
        "\n",
        "Eg.-\n",
        "```\n",
        "[[1,1,1,1],\n",
        "[1,0,0,1],\n",
        "[1,0,0,1],\n",
        "[1,1,1,1]]\n",
        "```"
      ],
      "metadata": {
        "id": "2iEeybS06ZSq"
      }
    },
    {
      "cell_type": "code",
      "source": [
        "#Code here\n",
        "def fun(a,b):\n",
        "  l = np.ones((a,b))\n",
        "  l[1:-1,1:-1] = 0\n",
        "  return l\n"
      ],
      "metadata": {
        "id": "gEKndkDU6ZSs"
      },
      "execution_count": 33,
      "outputs": []
    },
    {
      "cell_type": "code",
      "source": [
        "fun(4,4)"
      ],
      "metadata": {
        "id": "_37xDYNLeUtb",
        "outputId": "6e1affbd-005d-4d91-9954-ad272283afa2",
        "colab": {
          "base_uri": "https://localhost:8080/"
        }
      },
      "execution_count": 34,
      "outputs": [
        {
          "output_type": "execute_result",
          "data": {
            "text/plain": [
              "array([[1., 1., 1., 1.],\n",
              "       [1., 0., 0., 1.],\n",
              "       [1., 0., 0., 1.],\n",
              "       [1., 1., 1., 1.]])"
            ]
          },
          "metadata": {},
          "execution_count": 34
        }
      ]
    },
    {
      "cell_type": "markdown",
      "source": [
        "###`Q-4` Create a vector of size 10 with values ranging from 0 to 1, both excluded.\n"
      ],
      "metadata": {
        "id": "QRJicQ8j6ZlE"
      }
    },
    {
      "cell_type": "code",
      "source": [
        "#Code here\n",
        "a= np.linspace(0,1,12)\n",
        "a[1:-1]"
      ],
      "metadata": {
        "id": "eC4XLhDq6ZlF",
        "outputId": "568e7b2e-1a02-43e9-c038-f36416d0236f",
        "colab": {
          "base_uri": "https://localhost:8080/"
        }
      },
      "execution_count": 45,
      "outputs": [
        {
          "output_type": "execute_result",
          "data": {
            "text/plain": [
              "array([0.09090909, 0.18181818, 0.27272727, 0.36363636, 0.45454545,\n",
              "       0.54545455, 0.63636364, 0.72727273, 0.81818182, 0.90909091])"
            ]
          },
          "metadata": {},
          "execution_count": 45
        }
      ]
    },
    {
      "cell_type": "markdown",
      "source": [
        "###`Q-5` Can you create a identity mattrix of shape (3,4). If yes write code for it."
      ],
      "metadata": {
        "id": "vb4jK4yQ6Zs2"
      }
    },
    {
      "cell_type": "code",
      "source": [
        "#Code here\n",
        "# identity matrix is square matrix"
      ],
      "metadata": {
        "id": "DTV_AbMS6Zs4"
      },
      "execution_count": 38,
      "outputs": []
    },
    {
      "cell_type": "markdown",
      "source": [
        "###`Q-6:` Create a 5x5 matrix with row values ranging from 0 to 4."
      ],
      "metadata": {
        "id": "QtjAFm5PEntK"
      }
    },
    {
      "cell_type": "code",
      "source": [
        "#Code here\n",
        "z = np.zeros((5,5),dtype=np.int32)\n",
        "a = np.arange(5)\n",
        "z+=a\n",
        "z"
      ],
      "metadata": {
        "id": "z2WGxRjvEuRS",
        "outputId": "5eb9824d-ec3e-415c-9b2d-7e536b8105be",
        "colab": {
          "base_uri": "https://localhost:8080/"
        }
      },
      "execution_count": 51,
      "outputs": [
        {
          "output_type": "execute_result",
          "data": {
            "text/plain": [
              "array([[0, 1, 2, 3, 4],\n",
              "       [0, 1, 2, 3, 4],\n",
              "       [0, 1, 2, 3, 4],\n",
              "       [0, 1, 2, 3, 4],\n",
              "       [0, 1, 2, 3, 4]], dtype=int32)"
            ]
          },
          "metadata": {},
          "execution_count": 51
        }
      ]
    },
    {
      "cell_type": "markdown",
      "source": [
        "###`Q-7:`  Consider a random integer (in range 1 to 100) vector with shape `(10,2)` representing coordinates, and coordinates of a point as array is given. Create an array of distance of each point in the random vectros from the given point. Distance array should be interger type.\n",
        "\n",
        "```\n",
        "point = np.array([2,3])\n",
        "```\n"
      ],
      "metadata": {
        "id": "KPpvxKjVHnyx"
      }
    },
    {
      "cell_type": "code",
      "source": [
        "#code here\n",
        "import numpy as np\n",
        "l = np.random.randint(1,101,size=(10,2))\n",
        "print(l)\n",
        "p = np.array([2,3])\n",
        "\n",
        "# def distance(l,p):\n",
        "#   dis = []\n",
        "#   for i in l:\n",
        "#     dis.append(((i[1]-p[1])**2 + (i[0]-p[0]**2))**0.5)\n",
        "#   return dis\n",
        "\n",
        "dis =np.sqrt(np.sum((l - p)**2,axis=1))\n",
        "\n",
        "\n",
        "dis"
      ],
      "metadata": {
        "id": "X7KGnWLNIM6f",
        "outputId": "c8bf5a16-df88-4bcc-abc1-a1892d7d915a",
        "colab": {
          "base_uri": "https://localhost:8080/"
        }
      },
      "execution_count": 9,
      "outputs": [
        {
          "output_type": "stream",
          "name": "stdout",
          "text": [
            "[[27 15]\n",
            " [62 69]\n",
            " [13 84]\n",
            " [84 96]\n",
            " [88 65]\n",
            " [24 21]\n",
            " [58 56]\n",
            " [67 43]\n",
            " [19 63]\n",
            " [92 77]]\n"
          ]
        },
        {
          "output_type": "execute_result",
          "data": {
            "text/plain": [
              "array([ 27.73084925,  89.19641248,  81.74350127, 123.98790264,\n",
              "       106.01886625,  28.42534081,  77.1038261 ,  76.32168761,\n",
              "        62.36184731, 116.51609331])"
            ]
          },
          "metadata": {},
          "execution_count": 9
        }
      ]
    },
    {
      "cell_type": "code",
      "source": [
        "distance(l,p)"
      ],
      "metadata": {
        "id": "H4woy93gL5EB",
        "outputId": "fc51b676-9912-42da-b8c9-d95cec81f391",
        "colab": {
          "base_uri": "https://localhost:8080/"
        }
      },
      "execution_count": 4,
      "outputs": [
        {
          "output_type": "execute_result",
          "data": {
            "text/plain": [
              "[44.05678154382138,\n",
              " 82.5348411278534,\n",
              " 31.080540535840107,\n",
              " 83.50449089719666,\n",
              " 3.0,\n",
              " 78.37091297158659,\n",
              " 74.47818472546173,\n",
              " 37.5632799419859,\n",
              " 11.958260743101398,\n",
              " 3.4641016151377544]"
            ]
          },
          "metadata": {},
          "execution_count": 4
        }
      ]
    },
    {
      "cell_type": "markdown",
      "source": [
        "###`Q-8:` Consider a (6,7,8) shape array, what is the index (x,y,z) of the 100th element?"
      ],
      "metadata": {
        "id": "tajOFJlCDwTr"
      }
    },
    {
      "cell_type": "code",
      "source": [
        "#Code here\n",
        "\n",
        "shape  =(6,7,8)\n",
        "ind = 99 #element start from zero\n",
        "\n",
        "z = ind % shape[2]\n",
        "y = (ind // shape[2])%shape[1]\n",
        "x = (ind //(shape[2]*shape[1]))%shape[0]\n",
        "print(x,y,z)"
      ],
      "metadata": {
        "id": "qH4oxvs0D3Ra",
        "outputId": "dd6b1483-9044-48bc-f150-de3c021b4b07",
        "colab": {
          "base_uri": "https://localhost:8080/"
        }
      },
      "execution_count": 14,
      "outputs": [
        {
          "output_type": "stream",
          "name": "stdout",
          "text": [
            "1 5 3\n"
          ]
        }
      ]
    },
    {
      "cell_type": "markdown",
      "source": [
        "### `Q-9:` Arrays\n",
        "\n",
        "You are given a space separated list of numbers. Your task is to print a reversed NumPy array with the element type float.\n",
        "\n"
      ],
      "metadata": {
        "id": "9LxBAbT2Pw33"
      }
    },
    {
      "cell_type": "markdown",
      "source": [
        "**Input Format:**\n",
        "\n",
        "A single line of input containing space separated numbers.\n",
        "\n",
        "**Output Format:**\n",
        "\n",
        "Print the reverse NumPy array with type float.\n",
        "\n",
        "**Example 1:**\n",
        "\n",
        "Input:\n",
        "\n",
        "```bash\n",
        "1 2 3 4 -8 -10\n",
        "```\n",
        "\n",
        "Output:\n",
        "\n",
        "```bash\n",
        "[-10.  -8.   4.   3.   2.   1.]\n",
        "```"
      ],
      "metadata": {
        "id": "JJpqVms2Nq7L"
      }
    },
    {
      "cell_type": "code",
      "source": [
        "#Code here\n",
        "s = input()\n",
        "l= (s.split())\n",
        "arr = np.array(l,dtype=np.float32)\n",
        "arr[::-1]\n"
      ],
      "metadata": {
        "id": "7iQyg6ChNl3j",
        "outputId": "1805c866-0b3c-492f-fed1-ee40cab96791",
        "colab": {
          "base_uri": "https://localhost:8080/"
        }
      },
      "execution_count": 25,
      "outputs": [
        {
          "name": "stdout",
          "output_type": "stream",
          "text": [
            "1 2 3 4 -8 -10\n"
          ]
        },
        {
          "output_type": "execute_result",
          "data": {
            "text/plain": [
              "array([-10.,  -8.,   4.,   3.,   2.,   1.], dtype=float32)"
            ]
          },
          "metadata": {},
          "execution_count": 25
        }
      ]
    },
    {
      "cell_type": "code",
      "source": [
        "print(arr)"
      ],
      "metadata": {
        "id": "MIVz1nmoRndC",
        "outputId": "3398b9d8-10c4-4784-de12-0f0b16a6b5f6",
        "colab": {
          "base_uri": "https://localhost:8080/"
        }
      },
      "execution_count": 27,
      "outputs": [
        {
          "output_type": "stream",
          "name": "stdout",
          "text": [
            "[  1.   2.   3.   4.  -8. -10.]\n"
          ]
        }
      ]
    },
    {
      "cell_type": "markdown",
      "source": [
        "### `Q-10:` Elements count\n",
        "\n",
        "Count the number of elements of a numpy array.\n",
        "\n"
      ],
      "metadata": {
        "id": "TPxD7jM8Sjz9"
      }
    },
    {
      "cell_type": "markdown",
      "source": [
        "**Example 1:**\n",
        "\n",
        "Input:\n",
        "```bash\n",
        "np.array([])\n",
        "```\n",
        "\n",
        "Output:\n",
        "```bash\n",
        "elements_count :  0\n",
        "```\n",
        "\n",
        "**Example 2:**\n",
        "\n",
        "Input:\n",
        "```bash\n",
        "np.array([1, 2])\n",
        "```\n",
        "\n",
        "Output:\n",
        "```bash\n",
        "elements_count :  2\n",
        "```"
      ],
      "metadata": {
        "id": "oHTiTz_jNkAU"
      }
    },
    {
      "cell_type": "code",
      "source": [
        "#Code here\n",
        "print(\"element_counts\",arr.size)\n"
      ],
      "metadata": {
        "id": "RG0H2I-TNeGN",
        "outputId": "d1cbaaef-60cb-4948-8a89-8ed9be8ff481",
        "colab": {
          "base_uri": "https://localhost:8080/"
        }
      },
      "execution_count": 31,
      "outputs": [
        {
          "output_type": "stream",
          "name": "stdout",
          "text": [
            "element_counts 6\n"
          ]
        }
      ]
    },
    {
      "cell_type": "markdown",
      "source": [
        "### `Q-11:` Softmax function\n",
        "\n",
        "Create a Python function to calculate the Softmax of the given numpy 1D array. The function only accepts the numpy 1D array, otherwise raise error.\n",
        "\n",
        "$$\\Large \\sigma(\\vec z)_i = \\frac{e^{z_i}}{\\sum_{j=i}^{K}{e^{z_j}}}$$\n",
        "\n",
        "https://en.wikipedia.org/wiki/Softmax_function\n",
        "\n"
      ],
      "metadata": {
        "id": "pwgPz-3l5ic5"
      }
    },
    {
      "cell_type": "markdown",
      "source": [
        "**Example 1:**\n",
        "\n",
        "Input:\n",
        "```bash\n",
        "[86.03331084 37.7285648  48.64908087 87.16563062 38.40852563 37.20006318]\n",
        "```\n",
        "\n",
        "Output:\n",
        "```bash\n",
        "[2.43733249e-01, 2.56112115e-22, 1.41628284e-17, 7.56266751e-01,\n",
        "       5.05514197e-22, 1.50974911e-22]\n",
        "```\n",
        "\n",
        "**Example 2:**\n",
        "\n",
        "Input:\n",
        "```bash\n",
        "[33.17344305 45.61961654 82.05405781 80.9647098  68.82830233 91.52064278]\n",
        "```\n",
        "\n",
        "Output:\n",
        "```bash\n",
        "[4.57181035e-26, 1.16249923e-20, 7.73872596e-05, 2.60358426e-05,\n",
        "       1.39571531e-10, 9.99896577e-01]\n",
        "```"
      ],
      "metadata": {
        "id": "eZ3WJt6UM1ul"
      }
    },
    {
      "cell_type": "code",
      "source": [
        "#Code here\n",
        "z = np.array([86.03331084, 37.7285648,  48.64908087, 87.16563062, 38.40852563, 37.20006318])\n",
        "ans = np.exp(z)/np.sum(1+np.exp(z))\n",
        "ans"
      ],
      "metadata": {
        "id": "VNzj05lkNaNi",
        "outputId": "a7b880f0-ed7b-4cd4-e72d-d6bca26cfdc5",
        "colab": {
          "base_uri": "https://localhost:8080/"
        }
      },
      "execution_count": 36,
      "outputs": [
        {
          "output_type": "execute_result",
          "data": {
            "text/plain": [
              "array([2.43733248e-01, 2.56112114e-22, 1.41628283e-17, 7.56266752e-01,\n",
              "       5.05514197e-22, 1.50974911e-22])"
            ]
          },
          "metadata": {},
          "execution_count": 36
        }
      ]
    },
    {
      "cell_type": "markdown",
      "source": [
        "### `Q-12:` Vertical stack\n",
        "\n",
        "Write a python function that accepts infinite number of numpy arrays and do the vertical stack to them. Then return that new array as result. The function only accepts the numpy array, otherwise raise error.\n",
        "\n"
      ],
      "metadata": {
        "id": "k4JWSwWu_HXg"
      }
    },
    {
      "cell_type": "markdown",
      "source": [
        "**Example 1:**\n",
        "\n",
        "Input:\n",
        "```bash\n",
        "a= [[0 1 2 3 4]\n",
        " [5 6 7 8 9]]\n",
        "\n",
        "b= [[1 1 1 1 1]\n",
        " [1 1 1 1 1]]\n",
        "```\n",
        "\n",
        "Output:\n",
        "\n",
        "```bash\n",
        "[[0 1 2 3 4]\n",
        " [5 6 7 8 9]\n",
        " [1 1 1 1 1]\n",
        " [1 1 1 1 1]]\n",
        "```\n",
        "\n",
        "**Example 2:**\n",
        "\n",
        "Input:\n",
        "```bash\n",
        "a= [[0 1 2 3 4]\n",
        " [5 6 7 8 9]]\n",
        "\n",
        "b= [[1 1 1 1 1]\n",
        " [1 1 1 1 1]]\n",
        "\n",
        "c= [[0.10117373 0.1677244  0.73764059 0.83166097 0.48985695]\n",
        " [0.44581567 0.13502419 0.55692335 0.16479622 0.61193593]]\n",
        "```\n",
        "\n",
        "Output:\n",
        "```bash\n",
        "[[0.         1.         2.         3.         4.        ]\n",
        " [5.         6.         7.         8.         9.        ]\n",
        " [1.         1.         1.         1.         1.        ]\n",
        " [1.         1.         1.         1.         1.        ]\n",
        " [0.10117373 0.1677244  0.73764059 0.83166097 0.48985695]\n",
        " [0.44581567 0.13502419 0.55692335 0.16479622 0.61193593]]\n",
        "```"
      ],
      "metadata": {
        "id": "XhhV3mraNAWr"
      }
    },
    {
      "cell_type": "code",
      "source": [
        "#Coder here\n",
        "a= np.array([[0, 1, 2, 3, 4],\n",
        " [5, 6, 7, 8, 9]])\n",
        "\n",
        "b= np.array([[1, 1, 1, 1, 1],\n",
        " [1, 1, 1, 1, 1]])\n",
        "\n",
        "c= np.array([[0.10117373, 0.1677244,  0.73764059, 0.83166097, 0.48985695],\n",
        " [0.44581567, 0.13502419, 0.55692335, 0.16479622, 0.61193593]])\n",
        "\n",
        "def stack(*args):\n",
        "  return np.vstack(args)\n",
        "\n"
      ],
      "metadata": {
        "id": "dhtnbSj6NP8z"
      },
      "execution_count": 40,
      "outputs": []
    },
    {
      "cell_type": "code",
      "source": [
        "stack(a,b,c)"
      ],
      "metadata": {
        "id": "n9LuTWo2WuCq",
        "outputId": "d1b38f92-ec94-4e61-f83d-03c38324316a",
        "colab": {
          "base_uri": "https://localhost:8080/"
        }
      },
      "execution_count": 41,
      "outputs": [
        {
          "output_type": "execute_result",
          "data": {
            "text/plain": [
              "array([[0.        , 1.        , 2.        , 3.        , 4.        ],\n",
              "       [5.        , 6.        , 7.        , 8.        , 9.        ],\n",
              "       [1.        , 1.        , 1.        , 1.        , 1.        ],\n",
              "       [1.        , 1.        , 1.        , 1.        , 1.        ],\n",
              "       [0.10117373, 0.1677244 , 0.73764059, 0.83166097, 0.48985695],\n",
              "       [0.44581567, 0.13502419, 0.55692335, 0.16479622, 0.61193593]])"
            ]
          },
          "metadata": {},
          "execution_count": 41
        }
      ]
    },
    {
      "cell_type": "markdown",
      "source": [
        "### `Q-13:` Dates\n",
        "\n",
        "Create a python function named **date_array** that accepts two dates as string format and returns a numpy array of dates between those 2 dates. The function only accept 2 strings, otherwise raise error. The date format should be like this only: `2022-12-6`. The end date should be included and for simplicity, choose dates from a same year.\n",
        "\n"
      ],
      "metadata": {
        "id": "3mk8T6CuC2DP"
      }
    },
    {
      "cell_type": "markdown",
      "source": [
        "**Example 1:**\n",
        "\n",
        "Input:\n",
        "```bash\n",
        "date_array(start = '2020-09-15', end = '2020-09-25')\n",
        "```\n",
        "\n",
        "Output:\n",
        "```bash\n",
        "['2020-09-15', '2020-09-16', '2020-09-17', '2020-09-18',\n",
        " '2020-09-19', '2020-09-20', '2020-09-21', '2020-09-22',\n",
        " '2020-09-23', '2020-09-24', '2020-09-25']\n",
        "```\n",
        "\n",
        "**Example 2:**\n",
        "\n",
        "Input:\n",
        "```bash\n",
        "date_array(start = '2022-12-01', end = '2022-12-06')\n",
        "```\n",
        "\n",
        "Output:\n",
        "```bash\n",
        "['2022-12-01', '2022-12-02', '2022-12-03', '2022-12-04', '2022-12-05', '2022-12-06']\n",
        "```\n",
        "\n",
        "**Example 3:**\n",
        "\n",
        "Input:\n",
        "```bash\n",
        "date_array(start = '2020-11-25', end = '2020-11-30')\n",
        "```\n",
        "\n",
        "Output:\n",
        "```bash\n",
        "['2020-11-25', '2020-11-26', '2020-11-27', '2020-11-28',\n",
        " '2020-11-29', '2020-11-30']\n",
        "```"
      ],
      "metadata": {
        "id": "E3IgjnTTNFEk"
      }
    },
    {
      "cell_type": "code",
      "source": [
        "#Code here"
      ],
      "metadata": {
        "id": "Yj5PBfQQNTnL"
      },
      "execution_count": null,
      "outputs": []
    },
    {
      "cell_type": "markdown",
      "source": [
        "###`Q-14:` Subtract the mean of each row from a matrix."
      ],
      "metadata": {
        "id": "bcEp0wTWQijK"
      }
    },
    {
      "cell_type": "code",
      "source": [
        "#code here\n",
        "arr = np.arange(16).reshape(4,4)\n",
        "print(arr)\n",
        "sub = np.mean(arr,axis=1,keepdims=True)\n",
        "print(sub)\n",
        "arr - sub"
      ],
      "metadata": {
        "id": "rpILVGcgQzMo",
        "outputId": "ae5844ed-11bd-4250-bd6f-dbb7f57ca17f",
        "colab": {
          "base_uri": "https://localhost:8080/"
        }
      },
      "execution_count": 52,
      "outputs": [
        {
          "output_type": "stream",
          "name": "stdout",
          "text": [
            "[[ 0  1  2  3]\n",
            " [ 4  5  6  7]\n",
            " [ 8  9 10 11]\n",
            " [12 13 14 15]]\n",
            "[[ 1.5]\n",
            " [ 5.5]\n",
            " [ 9.5]\n",
            " [13.5]]\n"
          ]
        },
        {
          "output_type": "execute_result",
          "data": {
            "text/plain": [
              "array([[-1.5, -0.5,  0.5,  1.5],\n",
              "       [-1.5, -0.5,  0.5,  1.5],\n",
              "       [-1.5, -0.5,  0.5,  1.5],\n",
              "       [-1.5, -0.5,  0.5,  1.5]])"
            ]
          },
          "metadata": {},
          "execution_count": 52
        }
      ]
    },
    {
      "cell_type": "markdown",
      "source": [
        "###`Q-15:` Swap column-1 of array with column-2 in the array."
      ],
      "metadata": {
        "id": "A-dMVlPPSBTT"
      }
    },
    {
      "cell_type": "code",
      "source": [
        "#Code here\n",
        "arr = np.arange(16).reshape(4,4)\n",
        "print(arr)\n",
        "arr[:,[0,1]] = arr[:,[1,0]]\n",
        "arr"
      ],
      "metadata": {
        "id": "3RtngM9-Q6S7",
        "outputId": "d767b81c-421b-4134-8ef9-38a2fed0b87e",
        "colab": {
          "base_uri": "https://localhost:8080/"
        }
      },
      "execution_count": 58,
      "outputs": [
        {
          "output_type": "stream",
          "name": "stdout",
          "text": [
            "[[ 0  1  2  3]\n",
            " [ 4  5  6  7]\n",
            " [ 8  9 10 11]\n",
            " [12 13 14 15]]\n"
          ]
        }
      ]
    },
    {
      "cell_type": "markdown",
      "source": [
        "###`Q-16:` Replace odd elements in arrays with -1."
      ],
      "metadata": {
        "id": "cB4VMexvS6Zi"
      }
    },
    {
      "cell_type": "code",
      "source": [
        "#Code here\n",
        "arr = np.arange(16).reshape(4,4)\n",
        "arr[arr%2 !=0] = -1\n",
        "arr"
      ],
      "metadata": {
        "id": "Bt83nXEVS5O4",
        "outputId": "53323342-1edb-450e-9ae8-26418e44f3de",
        "colab": {
          "base_uri": "https://localhost:8080/"
        }
      },
      "execution_count": 67,
      "outputs": [
        {
          "output_type": "execute_result",
          "data": {
            "text/plain": [
              "array([[ 0, -1,  2, -1],\n",
              "       [ 4, -1,  6, -1],\n",
              "       [ 8, -1, 10, -1],\n",
              "       [12, -1, 14, -1]])"
            ]
          },
          "metadata": {},
          "execution_count": 67
        }
      ]
    },
    {
      "cell_type": "code",
      "source": [],
      "metadata": {
        "id": "1ZlvMaXLVyoW"
      },
      "execution_count": null,
      "outputs": []
    },
    {
      "cell_type": "markdown",
      "source": [
        "###`Q-17:` Given two arrays of same shape make an array of max out of two arrays. (Numpy way)\n",
        "```\n",
        "a=np.array([6,3,1,5,8])\n",
        "b=np.array([3,2,1,7,2])\n",
        "\n",
        "Result-> [6 3 1 7 8]\n",
        "```"
      ],
      "metadata": {
        "id": "kf_qvmBxWIT_"
      }
    },
    {
      "cell_type": "code",
      "source": [
        "#Code here\n",
        "a=np.array([6,3,1,5,8])\n",
        "b=np.array([3,2,1,7,2])\n",
        "if sum(a)>sum(b):\n",
        "  print(\"result -->\",a)\n",
        "else:\n",
        "  print(\"result -->\",b)"
      ],
      "metadata": {
        "id": "TB9ZvF-EZSfu",
        "outputId": "07223a2f-1394-4394-b2fa-b6fdb63aaea3",
        "colab": {
          "base_uri": "https://localhost:8080/"
        }
      },
      "execution_count": 74,
      "outputs": [
        {
          "output_type": "stream",
          "name": "stdout",
          "text": [
            "result --> [6 3 1 5 8]\n"
          ]
        }
      ]
    },
    {
      "cell_type": "code",
      "source": [],
      "metadata": {
        "id": "D7ad-A6jZzCL"
      },
      "execution_count": null,
      "outputs": []
    },
    {
      "cell_type": "markdown",
      "source": [
        "###`Q-18` Answer below asked questions on given array:\n",
        "1. Fetch Every alternate column of the array\n",
        "2. Normalise the given array\n",
        "\n",
        "https://en.wikipedia.org/wiki/Normalization_(statistics)\n",
        "\n",
        "There are different form of normalisation for this question use below formula.\n",
        "\n",
        "$$\\large X_{normalized} = \\frac{X - X_{min}}{X_{max} - X_{min}}$$\n",
        "\n",
        "```python\n",
        "arr1=np.random.randint(low=1, high=10000, size=40).reshape(8,5)\n",
        "```\n"
      ],
      "metadata": {
        "id": "iOQLUIeGc3zA"
      }
    },
    {
      "cell_type": "code",
      "source": [
        "# Given\n",
        "arr1=np.random.randint(low=1, high=10000, size=40).reshape(8,5)\n",
        "arr1"
      ],
      "metadata": {
        "colab": {
          "base_uri": "https://localhost:8080/"
        },
        "id": "vjSm18k3d_1p",
        "outputId": "b08d66b9-a5ba-46d1-acb0-b0f485903447"
      },
      "execution_count": 75,
      "outputs": [
        {
          "output_type": "execute_result",
          "data": {
            "text/plain": [
              "array([[ 272, 1363, 4812, 2040, 6116],\n",
              "       [ 717, 1116, 8871, 7759, 5842],\n",
              "       [7186, 3937,   65, 5325,  559],\n",
              "       [1388, 2182,  386, 3318,  552],\n",
              "       [5289, 3683,  384, 1754, 9376],\n",
              "       [4698, 9836,  530, 8100, 9622],\n",
              "       [ 303, 5428, 5425, 5087,  563],\n",
              "       [5768,  796, 4246, 8991, 3623]])"
            ]
          },
          "metadata": {},
          "execution_count": 75
        }
      ]
    },
    {
      "cell_type": "code",
      "source": [
        "#Code here\n",
        "arr = (arr1 - np.min(arr1))/(np.max(arr1) - np.min(arr1))\n",
        "arr"
      ],
      "metadata": {
        "id": "d7u8DB47eBfQ",
        "outputId": "d7bfa30e-e35d-4e19-82cb-fc63c9a0b2d8",
        "colab": {
          "base_uri": "https://localhost:8080/"
        }
      },
      "execution_count": 77,
      "outputs": [
        {
          "output_type": "execute_result",
          "data": {
            "text/plain": [
              "array([[0.02118514, 0.13284208, 0.4858254 , 0.20212875, 0.61928155],\n",
              "       [0.06672807, 0.1075632 , 0.90123836, 0.7874322 , 0.59123938],\n",
              "       [0.72878927, 0.39627469, 0.        , 0.5383277 , 0.05055777],\n",
              "       [0.13540068, 0.21666155, 0.03285232, 0.33292396, 0.04984137],\n",
              "       [0.53464333, 0.3702794 , 0.03264763, 0.17285846, 0.95292191],\n",
              "       [0.47415822, 1.        , 0.04758981, 0.82233139, 0.97809845],\n",
              "       [0.02435779, 0.5488691 , 0.54856207, 0.51396991, 0.05096715],\n",
              "       [0.58366595, 0.07481322, 0.42789888, 0.9135196 , 0.36413878]])"
            ]
          },
          "metadata": {},
          "execution_count": 77
        }
      ]
    },
    {
      "cell_type": "code",
      "source": [
        "np.max(arr1)"
      ],
      "metadata": {
        "id": "ISMafjm5n0jP",
        "outputId": "137a7fb2-374d-47b3-cd8f-106aeaa033ff",
        "colab": {
          "base_uri": "https://localhost:8080/"
        }
      },
      "execution_count": 79,
      "outputs": [
        {
          "output_type": "execute_result",
          "data": {
            "text/plain": [
              "9836"
            ]
          },
          "metadata": {},
          "execution_count": 79
        }
      ]
    },
    {
      "cell_type": "markdown",
      "source": [
        "###`Q-19:` Write a function which will accept 2 arguments.\n",
        "First: A 1D numpy array arr\n",
        "\n",
        "Second: An integer n {Please make sure n<=len(arr)}\n",
        "\n",
        "Output: The output should be the nth largest item out of the array\n",
        "```\n",
        "# Example1 : arr=(12,34,40,7,1,0) and n=3, the output should be 12\n",
        "# Example2 : arr=(12,34,40,7,1,0) and n=1, the output should be 40\n",
        "```"
      ],
      "metadata": {
        "id": "jCzsVEKLgGNo"
      }
    },
    {
      "cell_type": "code",
      "source": [
        "#Code here\n",
        "arr=np.array([12,34,40,7,1,0])\n",
        "\n",
        "def n_max(arr,ind):\n",
        "  arr =sorted(arr,reverse=True)\n",
        "  return arr[ind-1]"
      ],
      "metadata": {
        "id": "J4AzkDk7gXSG"
      },
      "execution_count": 97,
      "outputs": []
    },
    {
      "cell_type": "code",
      "source": [
        "n_max(arr,3)"
      ],
      "metadata": {
        "id": "d-aj_gLmolzb",
        "outputId": "9d0eca7a-2396-476d-c12b-0f28524f9148",
        "colab": {
          "base_uri": "https://localhost:8080/"
        }
      },
      "execution_count": 98,
      "outputs": [
        {
          "output_type": "execute_result",
          "data": {
            "text/plain": [
              "12"
            ]
          },
          "metadata": {},
          "execution_count": 98
        }
      ]
    },
    {
      "cell_type": "markdown",
      "source": [
        "###`Q-20:` Create the following pattern without hardcoding. Use only numpy functions and the below input array a.\n",
        "```\n",
        "# Input: a = np.array([1,2,3])\n",
        "# Output: array([1, 1, 1, 2, 2, 2, 3, 3, 3, 1, 2, 3, 1, 2, 3, 1, 2, 3])\n",
        "```"
      ],
      "metadata": {
        "id": "ja0xPCgjhBsg"
      }
    },
    {
      "cell_type": "code",
      "source": [
        "#code here\n",
        "a = np.array([1,2,3])\n",
        "x = np.repeat(a,3)\n",
        "y = np.tile(a,3)\n",
        "np.concatenate((x,y))"
      ],
      "metadata": {
        "id": "CndS8TTNhG0F",
        "outputId": "8a9d6cb2-0fb9-4c67-cd17-bbd50ee588d0",
        "colab": {
          "base_uri": "https://localhost:8080/"
        }
      },
      "execution_count": 103,
      "outputs": [
        {
          "output_type": "execute_result",
          "data": {
            "text/plain": [
              "array([1, 1, 1, 2, 2, 2, 3, 3, 3, 1, 2, 3, 1, 2, 3, 1, 2, 3])"
            ]
          },
          "metadata": {},
          "execution_count": 103
        }
      ]
    },
    {
      "cell_type": "code",
      "source": [
        "y"
      ],
      "metadata": {
        "id": "Fun-zdGer7WT",
        "outputId": "c3912a90-cbe0-4add-d728-7f54f9c29ec5",
        "colab": {
          "base_uri": "https://localhost:8080/"
        }
      },
      "execution_count": 101,
      "outputs": [
        {
          "output_type": "execute_result",
          "data": {
            "text/plain": [
              "array([1, 2, 3, 1, 2, 3, 1, 2, 3])"
            ]
          },
          "metadata": {},
          "execution_count": 101
        }
      ]
    },
    {
      "cell_type": "code",
      "source": [],
      "metadata": {
        "id": "CLCmve6XsDFa"
      },
      "execution_count": null,
      "outputs": []
    }
  ]
}